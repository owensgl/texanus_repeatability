{
 "cells": [
  {
   "cell_type": "markdown",
   "metadata": {},
   "source": [
    "# Testing debilis percent variance explained gen 1 to gen 6"
   ]
  },
  {
   "cell_type": "markdown",
   "metadata": {},
   "source": [
    "## Setup"
   ]
  },
  {
   "cell_type": "code",
   "execution_count": 1,
   "metadata": {},
   "outputs": [],
   "source": [
    "import os\n",
    "import sys\n",
    "import glob\n",
    "nb_dir = os.path.split(os.getcwd())[0]\n",
    "if nb_dir not in sys.path:\n",
    "    sys.path.append(nb_dir)\n",
    "%load_ext autoreload\n",
    "%autoreload 2\n",
    "%reload_ext autoreload"
   ]
  },
  {
   "cell_type": "code",
   "execution_count": 2,
   "metadata": {},
   "outputs": [],
   "source": [
    "import re\n",
    "import pickle\n",
    "\n",
    "import pandas as pd\n",
    "import numpy as np\n",
    "import matplotlib.pyplot as plt\n",
    "from matplotlib import cm\n",
    "import matplotlib as mpl"
   ]
  },
  {
   "cell_type": "code",
   "execution_count": 3,
   "metadata": {},
   "outputs": [],
   "source": [
    "from cvtk.cvtk import TemporalFreqs, TiledTemporalFreqs\n",
    "from cvtk.cov import stack_temporal_covariances\n",
    "import cvtk.variant_files as vf\n",
    "from cvtk.gintervals import GenomicIntervals\n",
    "from cvtk.pca import FreqPCA\n",
    "from cvtk.bootstrap import bootstrap_ci\n",
    "from cvtk.plots import rep_plot_pca, correction_diagnostic_plot\n",
    "from cvtk.utils import integerize\n",
    "from cvtk.utils import extract_empirical_nulls_diagonals, extract_temporal_cov_diagonals\n",
    "from cvtk.cov import stack_replicate_covariances, stack_temporal_covs_by_group\n",
    "from cvtk.variant_files import VCFFile"
   ]
  },
  {
   "cell_type": "code",
   "execution_count": 4,
   "metadata": {},
   "outputs": [],
   "source": [
    "%matplotlib inline\n",
    "#%config InlineBackend.figure_format = 'svg'\n",
    "mpl.rcParams['figure.figsize'] = (8.0, 4.0)\n",
    "mpl.rcParams['figure.dpi'] = 200"
   ]
  },
  {
   "cell_type": "markdown",
   "metadata": {},
   "source": [
    "## Varianta Data Loading"
   ]
  },
  {
   "cell_type": "markdown",
   "metadata": {},
   "source": [
    "### Load in TSV data and reshape"
   ]
  },
  {
   "cell_type": "code",
   "execution_count": 5,
   "metadata": {},
   "outputs": [],
   "source": [
    "keep_seqids = ['01', '02', '03', '04', '05', '06', '07', '08', '09', '10', '11', '12', '13', '14', '15', '16', '17']\n",
    "keep_autos = ['01', '02', '03', '04', '05', '06', '07', '08', '09', '10', '11', '12', '13', '14', '15', '16', '17']"
   ]
  },
  {
   "cell_type": "code",
   "execution_count": 520,
   "metadata": {},
   "outputs": [],
   "source": [
    "rawdata = pd.read_csv('../../ann3_1_6_snps_cvtk.v1.tsv', delimiter='\\t')\n",
    "samples = ['1_BFL', '6_BFL', '1_KPC', '6_KPC', '1_LBJ', '6_LBJ', '1_HCC', '6_HCC']\n",
    "freqs = rawdata[[f\"pr_{samp}\" for samp in samples]].values.T\n",
    "depths = rawdata[[f\"reads_{samp}\" for samp in samples]].values.T"
   ]
  },
  {
   "cell_type": "code",
   "execution_count": 521,
   "metadata": {},
   "outputs": [],
   "source": [
    "gi = GenomicIntervals()\n",
    "for row in rawdata.itertuples(index=False):\n",
    "    seqid = row[0].replace('Ha412HOChr', '')\n",
    "    gi.append(seqid, int(row[1]))"
   ]
  },
  {
   "cell_type": "code",
   "execution_count": 522,
   "metadata": {},
   "outputs": [],
   "source": [
    "gi.infer_seqlens()"
   ]
  },
  {
   "cell_type": "code",
   "execution_count": 523,
   "metadata": {},
   "outputs": [],
   "source": [
    "samples = [('BFL', 1), ('BFL', 6), ('KPC', 1), ('KPC', 6), ('LBJ', 1), ('LBJ', 6), ('HCC', 1), ('HCC', 6)]\n"
   ]
  },
  {
   "cell_type": "markdown",
   "metadata": {},
   "source": [
    "## Replicate Covariance Analysis"
   ]
  },
  {
   "cell_type": "code",
   "execution_count": 524,
   "metadata": {},
   "outputs": [],
   "source": [
    "tiles = GenomicIntervals.from_tiles(gi.seqlens, width=5e7)"
   ]
  },
  {
   "cell_type": "code",
   "execution_count": 525,
   "metadata": {},
   "outputs": [],
   "source": [
    "d = TiledTemporalFreqs(tiles, freqs=freqs, depths=depths, diploids=500, gintervals=gi, samples=samples)"
   ]
  },
  {
   "cell_type": "code",
   "execution_count": 526,
   "metadata": {},
   "outputs": [
    {
     "data": {
      "text/plain": [
       "[('BFL', 1),\n",
       " ('BFL', 6),\n",
       " ('HCC', 1),\n",
       " ('HCC', 6),\n",
       " ('KPC', 1),\n",
       " ('KPC', 6),\n",
       " ('LBJ', 1),\n",
       " ('LBJ', 6)]"
      ]
     },
     "execution_count": 526,
     "metadata": {},
     "output_type": "execute_result"
    }
   ],
   "source": [
    "d.samples"
   ]
  },
  {
   "cell_type": "code",
   "execution_count": 527,
   "metadata": {},
   "outputs": [
    {
     "data": {
      "text/plain": [
       "(4, 2, 3086)"
      ]
     },
     "execution_count": 527,
     "metadata": {},
     "output_type": "execute_result"
    }
   ],
   "source": [
    "d.freqs.shape"
   ]
  },
  {
   "cell_type": "code",
   "execution_count": 528,
   "metadata": {},
   "outputs": [
    {
     "data": {
      "application/vnd.jupyter.widget-view+json": {
       "model_id": "c5fac9d71f86486e8c45b9b39b4fcd30",
       "version_major": 2,
       "version_minor": 0
      },
      "text/plain": [
       "HBox(children=(IntProgress(value=0, description='bootstraps', max=5000, style=ProgressStyle(description_width=…"
      ]
     },
     "metadata": {},
     "output_type": "display_data"
    },
    {
     "name": "stdout",
     "output_type": "stream",
     "text": [
      "\n"
     ]
    }
   ],
   "source": [
    "covs_cis = d.bootstrap_cov(B=5000, progress_bar=True, average_replicates=False)"
   ]
  },
  {
   "cell_type": "code",
   "execution_count": 529,
   "metadata": {
    "scrolled": false
   },
   "outputs": [
    {
     "data": {
      "text/plain": [
       "array([[[0.05582853, 0.04672303, 0.0321395 , 0.06676118],\n",
       "        [0.04672303, 0.10736193, 0.03735812, 0.06944588],\n",
       "        [0.0321395 , 0.03735812, 0.0455248 , 0.03807384],\n",
       "        [0.06676118, 0.06944588, 0.03807384, 0.09545273]],\n",
       "\n",
       "       [[0.06594268, 0.06099336, 0.04541572, 0.07367628],\n",
       "        [0.06099336, 0.12629512, 0.04975013, 0.07929739],\n",
       "        [0.04541572, 0.04975013, 0.06127427, 0.0466415 ],\n",
       "        [0.07367628, 0.07929739, 0.0466415 , 0.10437607]],\n",
       "\n",
       "       [[0.07690963, 0.07848474, 0.05361482, 0.08748124],\n",
       "        [0.07848474, 0.14334201, 0.06156005, 0.09629043],\n",
       "        [0.05361482, 0.06156005, 0.07662499, 0.05900329],\n",
       "        [0.08748124, 0.09629043, 0.05900329, 0.1201737 ]]])"
      ]
     },
     "execution_count": 529,
     "metadata": {},
     "output_type": "execute_result"
    }
   ],
   "source": [
    "covs_cis"
   ]
  },
  {
   "cell_type": "markdown",
   "metadata": {},
   "source": [
    "## Genome-wide Covariances"
   ]
  },
  {
   "cell_type": "code",
   "execution_count": 530,
   "metadata": {},
   "outputs": [],
   "source": [
    "gw_covs = d.calc_cov(bias_correction=True)"
   ]
  },
  {
   "cell_type": "code",
   "execution_count": 531,
   "metadata": {
    "scrolled": true
   },
   "outputs": [
    {
     "data": {
      "text/plain": [
       "array([[0.06594268, 0.06099336, 0.04541572, 0.07367628],\n",
       "       [0.06099336, 0.12629512, 0.04975013, 0.07929739],\n",
       "       [0.04541572, 0.04975013, 0.06127427, 0.0466415 ],\n",
       "       [0.07367628, 0.07929739, 0.0466415 , 0.10437607]])"
      ]
     },
     "execution_count": 531,
     "metadata": {},
     "output_type": "execute_result"
    }
   ],
   "source": [
    "gw_covs"
   ]
  },
  {
   "cell_type": "markdown",
   "metadata": {},
   "source": [
    "### Convergence G\n",
    "\n",
    "A simple estimate:"
   ]
  },
  {
   "cell_type": "code",
   "execution_count": 532,
   "metadata": {},
   "outputs": [
    {
     "data": {
      "text/plain": [
       "0.6627292028938732"
      ]
     },
     "execution_count": 532,
     "metadata": {},
     "output_type": "execute_result"
    }
   ],
   "source": [
    "# this is specific to this design\n",
    "def rep_G(covs, standardize=True):\n",
    "    out = ((covs[0,1]+ covs[1,2] + covs[0,2] + covs[0,3] + covs[1,3] + covs[2,3])/6)\n",
    "    if standardize:\n",
    "        return out/(np.diag(covs).mean())\n",
    "    return out\n",
    "\n",
    "rep_G(gw_covs)"
   ]
  },
  {
   "cell_type": "code",
   "execution_count": 533,
   "metadata": {},
   "outputs": [],
   "source": [
    "windowed_covs = d.calc_cov_by_tile()                            "
   ]
  },
  {
   "cell_type": "code",
   "execution_count": 534,
   "metadata": {},
   "outputs": [
    {
     "name": "stdout",
     "output_type": "stream",
     "text": [
      "[0.58322454 0.6627292  0.72787547]\n"
     ]
    }
   ],
   "source": [
    "B = 5000\n",
    "\n",
    "windowed_rep_G_num = np.array([rep_G(win, False) for win in windowed_covs])\n",
    "windowed_rep_G_denom = np.array([np.diag(win).mean() for win in windowed_covs])\n",
    "\n",
    "straps = []\n",
    "for b in np.arange(B):\n",
    "    bidx = np.random.randint(0, len(windowed_covs), len(windowed_covs))\n",
    "    g = windowed_rep_G_num[bidx].mean() / windowed_rep_G_denom[bidx].mean()\n",
    "    straps.append(g)\n",
    "    \n",
    "print(bootstrap_ci(rep_G(gw_covs), straps))"
   ]
  },
  {
   "cell_type": "code",
   "execution_count": 420,
   "metadata": {},
   "outputs": [
    {
     "data": {
      "text/plain": [
       "GenomicIntervals — 17 unique seqids, 306 features\n",
       "             GenomicInterval\n",
       "0         01:[0, 10000000.0)\n",
       "1  01:[10000000, 20000000.0)\n",
       "2  01:[20000000, 30000000.0)\n",
       "3  01:[30000000, 40000000.0)\n",
       "4  01:[40000000, 50000000.0)\n",
       "[ 301 more GenomicIntervals ]"
      ]
     },
     "execution_count": 420,
     "metadata": {},
     "output_type": "execute_result"
    }
   ],
   "source": [
    "tiles"
   ]
  },
  {
   "cell_type": "code",
   "execution_count": null,
   "metadata": {},
   "outputs": [],
   "source": []
  }
 ],
 "metadata": {
  "kernelspec": {
   "display_name": "Python 3",
   "language": "python",
   "name": "python3"
  },
  "language_info": {
   "codemirror_mode": {
    "name": "ipython",
    "version": 3
   },
   "file_extension": ".py",
   "mimetype": "text/x-python",
   "name": "python",
   "nbconvert_exporter": "python",
   "pygments_lexer": "ipython3",
   "version": "3.7.4"
  }
 },
 "nbformat": 4,
 "nbformat_minor": 4
}
